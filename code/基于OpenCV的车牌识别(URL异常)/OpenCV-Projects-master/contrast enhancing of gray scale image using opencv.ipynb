{
 "cells": [
  {
   "cell_type": "code",
   "execution_count": null,
   "metadata": {},
   "outputs": [],
   "source": [
    "#programming_fever\n",
    "#contrast enchancing in grayscale image\n",
    "import cv2\n",
    "import numpy as np\n",
    "img = cv2.imread('E://OpenCV//histog.png', 0)\n",
    "img=cv2.resize(img,(500,500))\n",
    "histeq = cv2.equalizeHist(img)\n",
    "cv2.imshow('Input', img)\n",
    "cv2.imshow('Histogram equalized', histeq)\n",
    "cv2.waitKey(0)\n",
    "cv2.destroyAllWindows()"
   ]
  }
 ],
 "metadata": {
  "kernelspec": {
   "display_name": "Python 3",
   "language": "python",
   "name": "python3"
  },
  "language_info": {
   "codemirror_mode": {
    "name": "ipython",
    "version": 3
   },
   "file_extension": ".py",
   "mimetype": "text/x-python",
   "name": "python",
   "nbconvert_exporter": "python",
   "pygments_lexer": "ipython3",
   "version": "3.7.4"
  }
 },
 "nbformat": 4,
 "nbformat_minor": 2
}
