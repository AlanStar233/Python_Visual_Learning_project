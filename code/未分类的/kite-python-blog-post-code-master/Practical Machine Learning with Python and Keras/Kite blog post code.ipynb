{
 "cells": [
  {
   "cell_type": "code",
   "execution_count": 1,
   "metadata": {},
   "outputs": [],
   "source": [
    "import numpy as np\n",
    "import matplotlib.pyplot as plt\n",
    "import gzip\n",
    "from typing import List\n",
    "from sklearn.preprocessing import OneHotEncoder\n",
    "import tensorflow.keras as keras\n",
    "from sklearn.model_selection import train_test_split\n",
    "from sklearn.metrics import confusion_matrix\n",
    "import itertools\n",
    "\n",
    "\n",
    "%matplotlib inline"
   ]
  },
  {
   "cell_type": "markdown",
   "metadata": {},
   "source": [
    "# The MNIST Dataset\n",
    "\n",
    "The MNIST dataset is a large database of handwritten digits that is used as a benchmark and an introduction to machine learning and image processing systems. We like MNIST because the dataset is very clean and this allows us to focus on the actual network training and evaluation. Remember: a clean dataset is a luxury in the ML world! So let’s enjoy and celebrate MNIST’s cleanliness while we can :)\n",
    "\n",
    "## The objective\n",
    "\n",
    "Given a dataset of 60,000 handwritten digit images (represented by 28x28 pixels, each containing a value 0 - 255 with its grayscale value), train a system to classify each image with it's respective label (the digit that is displayed)."
   ]
  },
  {
   "cell_type": "markdown",
   "metadata": {},
   "source": [
    "## The dataset\n",
    "\n",
    "The dataset is composed of a training and testing dataset, but for simplicity we are only going to be using the training set. Below we can download the train dataset"
   ]
  },
  {
   "cell_type": "code",
   "execution_count": 2,
   "metadata": {},
   "outputs": [],
   "source": [
    "%%bash\n",
    "\n",
    "rm -Rf train-images-idx3-ubyte.gz\n",
    "rm -Rf train-labels-idx1-ubyte.gz \n",
    "wget -q http://yann.lecun.com/exdb/mnist/train-images-idx3-ubyte.gz\n",
    "wget -q http://yann.lecun.com/exdb/mnist/train-labels-idx1-ubyte.gz"
   ]
  },
  {
   "cell_type": "markdown",
   "metadata": {},
   "source": [
    "# Reading the labels\n",
    "\n",
    "There are 10 possible handwritten digits: (0-9), therefore every label must be a number from 0 to 9. The file that we downloaded, `train-labels-idx1-ubyte.gz`, encodes labels as following:\n",
    "\n",
    "### TRAINING SET LABEL FILE (train-labels-idx1-ubyte):\n",
    "\n",
    "```\n",
    "[offset] [type]          [value]          [description] \n",
    "0000     32 bit integer  0x00000801(2049) magic number (MSB first) \n",
    "0004     32 bit integer  60000            number of items \n",
    "0008     unsigned byte   ??               label \n",
    "0009     unsigned byte   ??               label \n",
    "........ \n",
    "xxxx     unsigned byte   ??               label\n",
    "The labels values are 0 to 9.\n",
    "```"
   ]
  },
  {
   "cell_type": "markdown",
   "metadata": {},
   "source": [
    "It looks like the first 8 bytes (or the first 2 32-bit integers) can be skipped because they contain metadata of the file that is usually useful to lower-level programming languages.\n",
    "To parse the file, we can perform the following operations:\n",
    "\n",
    "- Open the file using the gzip library, so that we can decompress the file\n",
    "- Read the entire byte array into memory\n",
    "- Skip the first 8 bytes\n",
    "- Iterate over every byte, and cast that byte to integer\n",
    "\n",
    "NOTE: If this file was not from a trusted source, a lot more checking would need to be done. For the purpose of this blog post, I'm going to assume the file is valid in it's integrity."
   ]
  },
  {
   "cell_type": "code",
   "execution_count": 3,
   "metadata": {},
   "outputs": [],
   "source": [
    "with gzip.open('train-labels-idx1-ubyte.gz') as train_labels:\n",
    "    data_from_train_file = train_labels.read()\n",
    "\n",
    "# Skip the first 8 bytes, we know exactly how many labels there are\n",
    "label_data = data_from_train_file[8:]\n",
    "assert len(label_data) == 60000\n",
    "\n",
    "# Convert every byte to an integer. This will be a number between 0 and 9\n",
    "labels = [int(label_byte) for label_byte in label_data]\n",
    "assert min(labels) == 0 and max(labels) == 9\n",
    "assert len(labels) == 60000\n"
   ]
  },
  {
   "cell_type": "markdown",
   "metadata": {},
   "source": [
    "## Reading the images"
   ]
  },
  {
   "cell_type": "markdown",
   "metadata": {},
   "source": [
    "\n",
    "\n",
    "```\n",
    "[offset] [type]          [value]          [description] \n",
    "0000     32 bit integer  0x00000803(2051) magic number \n",
    "0004     32 bit integer  60000            number of images \n",
    "0008     32 bit integer  28               number of rows \n",
    "0012     32 bit integer  28               number of columns \n",
    "0016     unsigned byte   ??               pixel \n",
    "0017     unsigned byte   ??               pixel \n",
    "........ \n",
    "xxxx     unsigned byte   ??               pixel\n",
    "```\n",
    "\n",
    "Reading images is slightly different than reading labels. The first 16 bytes contain metadata that we already know. We can skip those bytes and directly proceed to reading the images. Every image is represented as a 28*28 unsigned byte array. All we have to do is read one image at a time and save it into an array."
   ]
  },
  {
   "cell_type": "code",
   "execution_count": 4,
   "metadata": {},
   "outputs": [
    {
     "data": {
      "text/plain": [
       "(60000, 784)"
      ]
     },
     "execution_count": 4,
     "metadata": {},
     "output_type": "execute_result"
    }
   ],
   "source": [
    "SIZE_OF_ONE_IMAGE = 28 ** 2\n",
    "images = []\n",
    "\n",
    "# Iterate over the train file, and read one image at a time\n",
    "with gzip.open('train-images-idx3-ubyte.gz') as train_images:\n",
    "    train_images.read(4 * 4)\n",
    "    ctr = 0\n",
    "    for _ in range(60000):\n",
    "        image = train_images.read(size=SIZE_OF_ONE_IMAGE)\n",
    "        assert len(image) == SIZE_OF_ONE_IMAGE\n",
    "        \n",
    "        # Convert to numpy\n",
    "        image_np = np.frombuffer(image, dtype='uint8') / 255\n",
    "        images.append(image_np)\n",
    "\n",
    "images = np.array(images)\n",
    "images.shape"
   ]
  },
  {
   "cell_type": "markdown",
   "metadata": {},
   "source": [
    "Our `images` list now contains 60,000 images. Each image is represented as a byte vector of `SIZE_OF_ONE_IMAGE` \n",
    "Let's try to plot an image using the `matplotlib` library:"
   ]
  },
  {
   "cell_type": "code",
   "execution_count": 5,
   "metadata": {},
   "outputs": [
    {
     "data": {
      "image/png": "[encoded data removed]",
      "text/plain": [
       "<Figure size 432x288 with 1 Axes>"
      ]
     },
     "metadata": {
      "needs_background": "light"
     },
     "output_type": "display_data"
    }
   ],
   "source": [
    "def plot_image(pixels: np.array):\n",
    "    plt.imshow(pixels.reshape((28, 28)), cmap='gray')\n",
    "    plt.show()\n",
    "\n",
    "plot_image(images[25])"
   ]
  },
  {
   "cell_type": "markdown",
   "metadata": {},
   "source": [
    "# Encoding image labels using one-hot encoding\n",
    "\n",
    "We are going to use [One-hot encoding](https://en.wikipedia.org/wiki/One-hot) to transform our target labels into a vector. "
   ]
  },
  {
   "cell_type": "code",
   "execution_count": 6,
   "metadata": {},
   "outputs": [
    {
     "data": {
      "text/plain": [
       "array([[0., 0., 0., ..., 0., 0., 0.],\n",
       "       [1., 0., 0., ..., 0., 0., 0.],\n",
       "       [0., 0., 0., ..., 0., 0., 0.],\n",
       "       ...,\n",
       "       [0., 0., 0., ..., 0., 0., 0.],\n",
       "       [0., 0., 0., ..., 0., 0., 0.],\n",
       "       [0., 0., 0., ..., 0., 1., 0.]])"
      ]
     },
     "execution_count": 6,
     "metadata": {},
     "output_type": "execute_result"
    }
   ],
   "source": [
    "labels_np = np.array(labels).reshape((-1, 1))\n",
    "\n",
    "encoder = OneHotEncoder(categories='auto')\n",
    "labels_np_onehot = encoder.fit_transform(labels_np).toarray()\n",
    "\n",
    "labels_np_onehot"
   ]
  },
  {
   "cell_type": "markdown",
   "metadata": {},
   "source": [
    "We have successfully created input and output vectors that will be fed into the input and output layers of our neural network. The input vector at index `i` will correspond to the output vector at index `i`"
   ]
  },
  {
   "cell_type": "code",
   "execution_count": 7,
   "metadata": {},
   "outputs": [
    {
     "data": {
      "text/plain": [
       "array([0., 0., 0., 0., 0., 0., 1., 0., 0., 0.])"
      ]
     },
     "execution_count": 7,
     "metadata": {},
     "output_type": "execute_result"
    }
   ],
   "source": [
    "labels_np_onehot[999]\n"
   ]
  },
  {
   "cell_type": "code",
   "execution_count": 8,
   "metadata": {},
   "outputs": [
    {
     "data": {
      "image/png": "[encoded data removed]",
      "text/plain": [
       "<Figure size 432x288 with 1 Axes>"
      ]
     },
     "metadata": {
      "needs_background": "light"
     },
     "output_type": "display_data"
    }
   ],
   "source": [
    "plot_image(images[999])"
   ]
  },
  {
   "cell_type": "markdown",
   "metadata": {},
   "source": [
    "In the example above, we can see that the image at index `999` clearly represents a 6. It's associated output vector contains 10 digits (since there are 10 available labels) and the digit at index 6 is set to 1, indicating that it's the correct label. "
   ]
  },
  {
   "cell_type": "markdown",
   "metadata": {},
   "source": [
    "# Building train and test split\n",
    "\n",
    "In order to check that our ANN has correctly been trained, we take a percentage of the train dataset (our 60,000 images) and set it aside for testing purposes."
   ]
  },
  {
   "cell_type": "code",
   "execution_count": 9,
   "metadata": {},
   "outputs": [],
   "source": [
    "X_train, X_test, y_train, y_test = train_test_split(images, labels_np_onehot)"
   ]
  },
  {
   "cell_type": "code",
   "execution_count": 10,
   "metadata": {},
   "outputs": [
    {
     "data": {
      "text/plain": [
       "(45000, 10)"
      ]
     },
     "execution_count": 10,
     "metadata": {},
     "output_type": "execute_result"
    }
   ],
   "source": [
    "y_train.shape"
   ]
  },
  {
   "cell_type": "code",
   "execution_count": 11,
   "metadata": {},
   "outputs": [
    {
     "data": {
      "text/plain": [
       "(15000, 10)"
      ]
     },
     "execution_count": 11,
     "metadata": {},
     "output_type": "execute_result"
    }
   ],
   "source": [
    "y_test.shape"
   ]
  },
  {
   "cell_type": "markdown",
   "metadata": {},
   "source": [
    "As you can see, our dataset of 60,000 images was split into one dataset of 45,000 images, and the other of 15,000 images."
   ]
  },
  {
   "cell_type": "markdown",
   "metadata": {},
   "source": [
    "## Training a Neural Network using Keras"
   ]
  },
  {
   "cell_type": "code",
   "execution_count": 12,
   "metadata": {},
   "outputs": [
    {
     "name": "stdout",
     "output_type": "stream",
     "text": [
      "_________________________________________________________________\n",
      "Layer (type)                 Output Shape              Param #   \n",
      "=================================================================\n",
      "dense (Dense)                (None, 128)               100480    \n",
      "_________________________________________________________________\n",
      "dense_1 (Dense)              (None, 10)                1290      \n",
      "=================================================================\n",
      "Total params: 101,770\n",
      "Trainable params: 101,770\n",
      "Non-trainable params: 0\n",
      "_________________________________________________________________\n"
     ]
    }
   ],
   "source": [
    "model = keras.Sequential()\n",
    "model.add(keras.layers.Dense(input_shape=(SIZE_OF_ONE_IMAGE,), units=128, activation='relu'))\n",
    "model.add(keras.layers.Dense(10, activation='softmax'))\n",
    "\n",
    "model.summary()\n",
    "\n",
    "model.compile(optimizer='sgd',\n",
    "              loss='categorical_crossentropy',\n",
    "              metrics=['accuracy'])"
   ]
  },
  {
   "cell_type": "code",
   "execution_count": 13,
   "metadata": {},
   "outputs": [
    {
     "data": {
      "text/plain": [
       "(45000, 784)"
      ]
     },
     "execution_count": 13,
     "metadata": {},
     "output_type": "execute_result"
    }
   ],
   "source": [
    "X_train.shape"
   ]
  },
  {
   "cell_type": "code",
   "execution_count": 14,
   "metadata": {},
   "outputs": [
    {
     "name": "stdout",
     "output_type": "stream",
     "text": [
      "Epoch 1/20\n",
      "45000/45000 [==============================] - 8s 169us/step - loss: 1.3758 - acc: 0.6651\n",
      "Epoch 2/20\n",
      "45000/45000 [==============================] - 7s 165us/step - loss: 0.6496 - acc: 0.8504\n",
      "Epoch 3/20\n",
      "45000/45000 [==============================] - 8s 180us/step - loss: 0.4972 - acc: 0.8735\n",
      "Epoch 4/20\n",
      "45000/45000 [==============================] - 9s 191us/step - loss: 0.4330 - acc: 0.8858\n",
      "Epoch 5/20\n",
      "45000/45000 [==============================] - 8s 186us/step - loss: 0.3963 - acc: 0.8931\n",
      "Epoch 6/20\n",
      "45000/45000 [==============================] - 8s 183us/step - loss: 0.3714 - acc: 0.8986\n",
      "Epoch 7/20\n",
      "45000/45000 [==============================] - 8s 182us/step - loss: 0.3530 - acc: 0.9028\n",
      "Epoch 8/20\n",
      "45000/45000 [==============================] - 9s 191us/step - loss: 0.3387 - acc: 0.9055\n",
      "Epoch 9/20\n",
      "45000/45000 [==============================] - 8s 175us/step - loss: 0.3266 - acc: 0.9091\n",
      "Epoch 10/20\n",
      "45000/45000 [==============================] - 9s 199us/step - loss: 0.3163 - acc: 0.9117\n",
      "Epoch 11/20\n",
      "45000/45000 [==============================] - 8s 185us/step - loss: 0.3074 - acc: 0.9140\n",
      "Epoch 12/20\n",
      "45000/45000 [==============================] - 10s 214us/step - loss: 0.2991 - acc: 0.9162\n",
      "Epoch 13/20\n",
      "45000/45000 [==============================] - 8s 187us/step - loss: 0.2919 - acc: 0.9185\n",
      "Epoch 14/20\n",
      "45000/45000 [==============================] - 9s 202us/step - loss: 0.2851 - acc: 0.9203\n",
      "Epoch 15/20\n",
      "45000/45000 [==============================] - 9s 201us/step - loss: 0.2788 - acc: 0.9222\n",
      "Epoch 16/20\n",
      "45000/45000 [==============================] - 9s 206us/step - loss: 0.2730 - acc: 0.9241\n",
      "Epoch 17/20\n",
      "45000/45000 [==============================] - 7s 164us/step - loss: 0.2674 - acc: 0.9254\n",
      "Epoch 18/20\n",
      "45000/45000 [==============================] - 9s 189us/step - loss: 0.2622 - acc: 0.9271\n",
      "Epoch 19/20\n",
      "45000/45000 [==============================] - 10s 219us/step - loss: 0.2573 - acc: 0.9286\n",
      "Epoch 20/20\n",
      "45000/45000 [==============================] - 9s 197us/step - loss: 0.2526 - acc: 0.9302\n"
     ]
    },
    {
     "data": {
      "text/plain": [
       "<tensorflow.python.keras.callbacks.History at 0x1129f1f28>"
      ]
     },
     "execution_count": 14,
     "metadata": {},
     "output_type": "execute_result"
    }
   ],
   "source": [
    "model.fit(X_train, y_train, epochs=20, batch_size=128)"
   ]
  },
  {
   "cell_type": "code",
   "execution_count": 15,
   "metadata": {},
   "outputs": [
    {
     "name": "stdout",
     "output_type": "stream",
     "text": [
      "15000/15000 [==============================] - 2s 158us/step\n"
     ]
    },
    {
     "data": {
      "text/plain": [
       "[0.2567395991722743, 0.9264]"
      ]
     },
     "execution_count": 15,
     "metadata": {},
     "output_type": "execute_result"
    }
   ],
   "source": [
    "model.evaluate(X_test, y_test)"
   ]
  },
  {
   "cell_type": "markdown",
   "metadata": {},
   "source": [
    "# Inspecting the results"
   ]
  },
  {
   "cell_type": "markdown",
   "metadata": {},
   "source": [
    "Congratulations! you just trained a neural network to predict handwritten digits with more than 90% accuracy! Let's test out the network with one of the pictures we have in our testset\n",
    "\n",
    "Let's take a random image, in this case the image at index `1010`. We take the predicted label (in this case, the value is a 4 because the 5th index is set to 1)"
   ]
  },
  {
   "cell_type": "code",
   "execution_count": 16,
   "metadata": {},
   "outputs": [
    {
     "data": {
      "text/plain": [
       "array([0., 0., 0., 0., 1., 0., 0., 0., 0., 0.])"
      ]
     },
     "execution_count": 16,
     "metadata": {},
     "output_type": "execute_result"
    }
   ],
   "source": [
    "y_test[1010]"
   ]
  },
  {
   "cell_type": "markdown",
   "metadata": {},
   "source": [
    "Let's plot the image of the corresponding image"
   ]
  },
  {
   "cell_type": "code",
   "execution_count": 17,
   "metadata": {},
   "outputs": [
    {
     "data": {
      "image/png": "[encoded data removed]",
      "text/plain": [
       "<Figure size 432x288 with 1 Axes>"
      ]
     },
     "metadata": {
      "needs_background": "light"
     },
     "output_type": "display_data"
    }
   ],
   "source": [
    "plot_image(X_test[1010])"
   ]
  },
  {
   "cell_type": "markdown",
   "metadata": {},
   "source": [
    "### Understanding the output of a softmax activation layer"
   ]
  },
  {
   "cell_type": "markdown",
   "metadata": {},
   "source": [
    "Now, let's run this nuber through the neural network and we can see what our predicted output looks like!"
   ]
  },
  {
   "cell_type": "code",
   "execution_count": 18,
   "metadata": {},
   "outputs": [],
   "source": [
    "predicted_results = model.predict(X_test[1010].reshape((1, -1)))"
   ]
  },
  {
   "cell_type": "markdown",
   "metadata": {},
   "source": [
    "The output of a softmax layer is a probability distribution for every output. In our case, there are 10 possible outputs (digits 0-9). Of course, every one of our images is expected to only match one specific output (in other words, all of our images only contain one distinct digit).\n",
    "\n",
    "Because this is a probability distribution, the sum of the predicted results is ~1.0"
   ]
  },
  {
   "cell_type": "code",
   "execution_count": 19,
   "metadata": {},
   "outputs": [
    {
     "data": {
      "text/plain": [
       "1.0000001"
      ]
     },
     "execution_count": 19,
     "metadata": {},
     "output_type": "execute_result"
    }
   ],
   "source": [
    "predicted_results.sum()"
   ]
  },
  {
   "cell_type": "markdown",
   "metadata": {},
   "source": [
    "### Reading the output of a softmax activation layer for our digit"
   ]
  },
  {
   "cell_type": "markdown",
   "metadata": {},
   "source": [
    "As you can see below, the 7th index is really close to 1 (0.9) which means that there is a 90% probability that this digit is a 6... which it is! congrats!"
   ]
  },
  {
   "cell_type": "code",
   "execution_count": 20,
   "metadata": {},
   "outputs": [
    {
     "data": {
      "text/plain": [
       "array([[1.2202066e-06, 3.4432333e-08, 3.5151488e-06, 1.2011528e-06,\n",
       "        9.9889344e-01, 3.5855610e-05, 1.6140550e-05, 7.6822333e-05,\n",
       "        1.0446112e-04, 8.6736667e-04]], dtype=float32)"
      ]
     },
     "execution_count": 20,
     "metadata": {},
     "output_type": "execute_result"
    }
   ],
   "source": [
    "predicted_results"
   ]
  },
  {
   "cell_type": "markdown",
   "metadata": {},
   "source": [
    "# Viewing the confusion matrix"
   ]
  },
  {
   "cell_type": "code",
   "execution_count": 21,
   "metadata": {},
   "outputs": [],
   "source": [
    "\n",
    "predicted_outputs = np.argmax(model.predict(X_test), axis=1)\n",
    "expected_outputs = np.argmax(y_test, axis=1)\n",
    "\n",
    "predicted_confusion_matrix = confusion_matrix(expected_outputs, predicted_outputs)"
   ]
  },
  {
   "cell_type": "code",
   "execution_count": 22,
   "metadata": {},
   "outputs": [
    {
     "data": {
      "text/plain": [
       "array([[1413,    0,   10,    3,    2,   12,   12,    2,   10,    1],\n",
       "       [   0, 1646,   12,    6,    3,    8,    0,    5,    9,    3],\n",
       "       [  16,    9, 1353,   16,   22,    1,   18,   28,   44,    3],\n",
       "       [   1,    6,   27, 1420,    0,   48,   11,   16,   25,   17],\n",
       "       [   3,    7,    5,    1, 1403,    1,   12,    3,    7,   40],\n",
       "       [  15,   13,    7,   36,    5, 1194,   24,    6,   18,   15],\n",
       "       [  10,    8,    9,    1,   21,   16, 1363,    0,    9,    0],\n",
       "       [   2,   14,   18,    4,   16,    4,    2, 1491,    1,   27],\n",
       "       [   4,   28,   19,   31,   10,   28,   13,    2, 1280,   25],\n",
       "       [   5,   13,    1,   21,   58,   10,    1,   36,   13, 1333]])"
      ]
     },
     "execution_count": 22,
     "metadata": {},
     "output_type": "execute_result"
    }
   ],
   "source": [
    "predicted_confusion_matrix"
   ]
  },
  {
   "cell_type": "code",
   "execution_count": 23,
   "metadata": {},
   "outputs": [
    {
     "data": {
      "image/png": "[encoded data removed]",
      "text/plain": [
       "<Figure size 432x288 with 2 Axes>"
      ]
     },
     "metadata": {
      "needs_background": "light"
     },
     "output_type": "display_data"
    }
   ],
   "source": [
    "\n",
    "\n",
    "# Source code: https://scikit-learn.org/stable/auto_examples/model_selection/plot_confusion_matrix.html \n",
    "def plot_confusion_matrix(cm, classes,\n",
    "                          title='Confusion matrix',\n",
    "                          cmap=plt.cm.Blues):\n",
    "    \"\"\"\n",
    "    This function prints and plots the confusion matrix.\n",
    "    Normalization can be applied by setting `normalize=True`.\n",
    "    \"\"\"\n",
    "\n",
    "    plt.imshow(cm, interpolation='nearest', cmap=cmap)\n",
    "    plt.title(title)\n",
    "    plt.colorbar()\n",
    "    tick_marks = np.arange(len(classes))\n",
    "    plt.xticks(tick_marks, classes, rotation=45)\n",
    "    plt.yticks(tick_marks, classes)\n",
    "\n",
    "    fmt = 'd'\n",
    "    thresh = cm.max() / 2.\n",
    "    for i, j in itertools.product(range(cm.shape[0]), range(cm.shape[1])):\n",
    "        plt.text(j, i, format(cm[i, j], fmt),\n",
    "                 horizontalalignment=\"center\",\n",
    "                 color=\"white\" if cm[i, j] > thresh else \"black\")\n",
    "\n",
    "    plt.ylabel('True label')\n",
    "    plt.xlabel('Predicted label')\n",
    "    plt.tight_layout()\n",
    "\n",
    "\n",
    "# Compute confusion matrix\n",
    "class_names = [str(idx) for idx in range(10)]\n",
    "cnf_matrix = confusion_matrix(expected_outputs, predicted_outputs)\n",
    "np.set_printoptions(precision=2)\n",
    "\n",
    "# Plot non-normalized confusion matrix\n",
    "plt.figure()\n",
    "plot_confusion_matrix(cnf_matrix, classes=class_names,\n",
    "                      title='Confusion matrix, without normalization')\n",
    "\n",
    "plt.show()"
   ]
  }
 ],
 "metadata": {
  "kernelspec": {
   "display_name": "Python 3",
   "language": "python",
   "name": "python3"
  },
  "language_info": {
   "codemirror_mode": {
    "name": "ipython",
    "version": 3
   },
   "file_extension": ".py",
   "mimetype": "text/x-python",
   "name": "python",
   "nbconvert_exporter": "python",
   "pygments_lexer": "ipython3",
   "version": "3.6.5"
  }
 },
 "nbformat": 4,
 "nbformat_minor": 2
}
